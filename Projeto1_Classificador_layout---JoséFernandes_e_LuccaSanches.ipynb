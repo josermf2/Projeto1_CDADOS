{
 "cells": [
  {
   "cell_type": "markdown",
   "metadata": {},
   "source": [
    "# Projeto 1 - Ciência dos Dados"
   ]
  },
  {
   "cell_type": "markdown",
   "metadata": {},
   "source": [
    "Nome: José Rafael Martins Fernandes <br />\n",
    "Nome: Lucca Barufatti Velini Sanches"
   ]
  },
  {
   "cell_type": "markdown",
   "metadata": {},
   "source": [
    "**Atenção:** Serão permitidos grupos de três pessoas, mas com uma rubrica mais exigente. Grupos deste tamanho precisarão fazer um questionário de avaliação de trabalho em equipe"
   ]
  },
  {
   "cell_type": "markdown",
   "metadata": {},
   "source": [
    "___\n",
    "Carregando algumas bibliotecas:"
   ]
  },
  {
   "cell_type": "code",
   "execution_count": 14,
   "metadata": {},
   "outputs": [],
   "source": [
    "%matplotlib inline\n",
    "import pandas as pd\n",
    "import matplotlib.pyplot as plt\n",
    "import numpy as np\n",
    "import os\n",
    "import re\n",
    "from math import *\n",
    "from emoji import UNICODE_EMOJI\n",
    "from IPython.display import display\n",
    "pd.options.display.max_rows = 13"
   ]
  },
  {
   "cell_type": "code",
   "execution_count": 15,
   "metadata": {},
   "outputs": [],
   "source": [
    "#!pip install emoji"
   ]
  },
  {
   "cell_type": "markdown",
   "metadata": {},
   "source": [
    "**Em `filename`, coloque o nome do seu arquivo de dados!**"
   ]
  },
  {
   "cell_type": "code",
   "execution_count": 16,
   "metadata": {
    "scrolled": false
   },
   "outputs": [
    {
     "name": "stdout",
     "output_type": "stream",
     "text": [
      "Encontrei o arquivo bigmac.xlsx, tudo certo para prosseguir com o projeto!\n"
     ]
    }
   ],
   "source": [
    "import os\n",
    "\n",
    "filename = 'bigmac.xlsx'\n",
    "if filename in os.listdir():\n",
    "    print(f'Encontrei o arquivo {filename}, tudo certo para prosseguir com o projeto!')\n",
    "else:\n",
    "    print(f'Não encontrei o arquivo {filename} aqui no diretório {os.getcwd()}, será que você não baixou o arquivo?')"
   ]
  },
  {
   "cell_type": "markdown",
   "metadata": {},
   "source": [
    "Carregando a base de dados com os tweets classificados como relevantes e não relevantes:"
   ]
  },
  {
   "cell_type": "code",
   "execution_count": 17,
   "metadata": {},
   "outputs": [
    {
     "data": {
      "text/html": [
       "<div>\n",
       "<style scoped>\n",
       "    .dataframe tbody tr th:only-of-type {\n",
       "        vertical-align: middle;\n",
       "    }\n",
       "\n",
       "    .dataframe tbody tr th {\n",
       "        vertical-align: top;\n",
       "    }\n",
       "\n",
       "    .dataframe thead th {\n",
       "        text-align: right;\n",
       "    }\n",
       "</style>\n",
       "<table border=\"1\" class=\"dataframe\">\n",
       "  <thead>\n",
       "    <tr style=\"text-align: right;\">\n",
       "      <th></th>\n",
       "      <th>Treinamento</th>\n",
       "      <th>Classificação</th>\n",
       "    </tr>\n",
       "  </thead>\n",
       "  <tbody>\n",
       "    <tr>\n",
       "      <th>0</th>\n",
       "      <td>a tristeza do domingo a noite me obrigada a pe...</td>\n",
       "      <td>1</td>\n",
       "    </tr>\n",
       "    <tr>\n",
       "      <th>1</th>\n",
       "      <td>caralhooo, fiz o molho do big mac e ficou mto ...</td>\n",
       "      <td>0</td>\n",
       "    </tr>\n",
       "    <tr>\n",
       "      <th>2</th>\n",
       "      <td>rt @rodrigodasilva: essa aqui é a fila da aber...</td>\n",
       "      <td>0</td>\n",
       "    </tr>\n",
       "    <tr>\n",
       "      <th>3</th>\n",
       "      <td>sempre ele🥺🥰\\n\\n[15/09/2020 14:50:04] amor💗: v...</td>\n",
       "      <td>0</td>\n",
       "    </tr>\n",
       "    <tr>\n",
       "      <th>4</th>\n",
       "      <td>very depressed mas pelo menos tenho um big mac...</td>\n",
       "      <td>1</td>\n",
       "    </tr>\n",
       "  </tbody>\n",
       "</table>\n",
       "</div>"
      ],
      "text/plain": [
       "                                         Treinamento  Classificação\n",
       "0  a tristeza do domingo a noite me obrigada a pe...              1\n",
       "1  caralhooo, fiz o molho do big mac e ficou mto ...              0\n",
       "2  rt @rodrigodasilva: essa aqui é a fila da aber...              0\n",
       "3  sempre ele🥺🥰\\n\\n[15/09/2020 14:50:04] amor💗: v...              0\n",
       "4  very depressed mas pelo menos tenho um big mac...              1"
      ]
     },
     "execution_count": 17,
     "metadata": {},
     "output_type": "execute_result"
    }
   ],
   "source": [
    "train = pd.read_excel(filename)\n",
    "train.head(5)"
   ]
  },
  {
   "cell_type": "code",
   "execution_count": 18,
   "metadata": {},
   "outputs": [
    {
     "data": {
      "text/html": [
       "<div>\n",
       "<style scoped>\n",
       "    .dataframe tbody tr th:only-of-type {\n",
       "        vertical-align: middle;\n",
       "    }\n",
       "\n",
       "    .dataframe tbody tr th {\n",
       "        vertical-align: top;\n",
       "    }\n",
       "\n",
       "    .dataframe thead th {\n",
       "        text-align: right;\n",
       "    }\n",
       "</style>\n",
       "<table border=\"1\" class=\"dataframe\">\n",
       "  <thead>\n",
       "    <tr style=\"text-align: right;\">\n",
       "      <th></th>\n",
       "      <th>Teste</th>\n",
       "      <th>Classificação</th>\n",
       "    </tr>\n",
       "  </thead>\n",
       "  <tbody>\n",
       "    <tr>\n",
       "      <th>0</th>\n",
       "      <td>comer um big mac 🥺\\nexperimentar perfume na re...</td>\n",
       "      <td>0</td>\n",
       "    </tr>\n",
       "    <tr>\n",
       "      <th>1</th>\n",
       "      <td>ontem eu pedi um big mac e não estava sentindo...</td>\n",
       "      <td>0</td>\n",
       "    </tr>\n",
       "    <tr>\n",
       "      <th>2</th>\n",
       "      <td>@jhseokjin e se fosse um big mac?</td>\n",
       "      <td>0</td>\n",
       "    </tr>\n",
       "    <tr>\n",
       "      <th>3</th>\n",
       "      <td>ontem amassei um big mac, um cheddar e a batat...</td>\n",
       "      <td>0</td>\n",
       "    </tr>\n",
       "    <tr>\n",
       "      <th>4</th>\n",
       "      <td>rt @mcdonalds_br: ⏱contagem regressiva... é am...</td>\n",
       "      <td>0</td>\n",
       "    </tr>\n",
       "  </tbody>\n",
       "</table>\n",
       "</div>"
      ],
      "text/plain": [
       "                                               Teste  Classificação\n",
       "0  comer um big mac 🥺\\nexperimentar perfume na re...              0\n",
       "1  ontem eu pedi um big mac e não estava sentindo...              0\n",
       "2                  @jhseokjin e se fosse um big mac?              0\n",
       "3  ontem amassei um big mac, um cheddar e a batat...              0\n",
       "4  rt @mcdonalds_br: ⏱contagem regressiva... é am...              0"
      ]
     },
     "execution_count": 18,
     "metadata": {},
     "output_type": "execute_result"
    }
   ],
   "source": [
    "test = pd.read_excel(filename, sheet_name = 'Teste')\n",
    "test.head(5)"
   ]
  },
  {
   "cell_type": "markdown",
   "metadata": {},
   "source": [
    "___\n",
    "## Classificador automático de sentimento\n"
   ]
  },
  {
   "cell_type": "markdown",
   "metadata": {},
   "source": [
    "Faça aqui uma descrição do seu produto e o que considerou como relevante ou não relevante na classificação dos tweets.\n",
    "\n",
    "ESCREVA AQUI..."
   ]
  },
  {
   "cell_type": "markdown",
   "metadata": {},
   "source": [
    "___\n",
    "### Montando um Classificador Naive-Bayes\n",
    "\n",
    "Considerando apenas as mensagens da planilha Treinamento, ensine  seu classificador."
   ]
  },
  {
   "cell_type": "markdown",
   "metadata": {},
   "source": [
    "#### Limpando bases de dados"
   ]
  },
  {
   "cell_type": "code",
   "execution_count": 19,
   "metadata": {},
   "outputs": [],
   "source": [
    "#Função para limpar o texto\n",
    "def is_emoji(s):\n",
    "    return s in UNICODE_EMOJI\n",
    "\n",
    "def limpa(texto):\n",
    "    texto = texto.lower()\n",
    "    pontuacao = r\"[-'()'\\\"#/@*;:<>{}=~|.?,]\"\n",
    "    padrao = re.compile(pontuacao)\n",
    "    texto = re.sub(padrao, \"\", texto)\n",
    "    texto = re.sub('https', \"\", texto)\n",
    "    texto = re.sub('\\n', '', texto)\n",
    "    texto = ''.join(' ' + char + ' ' if is_emoji(char) else char for char in texto).strip()\n",
    "    texto = \" \".join(texto.split())\n",
    "    return texto\n",
    "\n",
    "#Separando os tweets pela classificação\n",
    "tweets_rel = train.loc[train['Classificação'] == 1, :]\n",
    "tweets_irel = train.loc[train['Classificação'] == 0, :]\n",
    "\n",
    "#Limpando os tweets da base de treinamento\n",
    "tweets_rel_limpo = tweets_rel['Treinamento'].apply(limpa)\n",
    "tweets_irel_limpo = tweets_irel['Treinamento'].apply(limpa)"
   ]
  },
  {
   "cell_type": "markdown",
   "metadata": {},
   "source": [
    "#### Tweets relevantes"
   ]
  },
  {
   "cell_type": "code",
   "execution_count": 20,
   "metadata": {},
   "outputs": [],
   "source": [
    "lista_tweets_rel_completos = [] #Lista com cada tweet relevante dentro de uma lista\n",
    "\n",
    "for tweet in tweets_rel_limpo:\n",
    "    lista_tweets_rel_completos.append(tweet.split()) \n",
    "\n",
    "palavras_tweets_rel = [] #Lista com todas as palavras dos tweets relevantes\n",
    "\n",
    "for i in lista_tweets_rel_completos:\n",
    "    for w in i:\n",
    "        palavras_tweets_rel.append(w)\n",
    "\n",
    "serie_palavras_tweets_rel = pd.Series(palavras_tweets_rel) #Criando série para as palavras dos tweets relevantes\n",
    "\n",
    "tabela_frequencias_tweets_rel = serie_palavras_tweets_rel.value_counts() #Tabela de frequencias absolutas das palavras dos tweets relevantes"
   ]
  },
  {
   "cell_type": "markdown",
   "metadata": {},
   "source": [
    "#### Tweets irrelevantes"
   ]
  },
  {
   "cell_type": "code",
   "execution_count": 21,
   "metadata": {},
   "outputs": [],
   "source": [
    "lista_tweets_irel_completos = [] #Lista com cada tweet relevante dentro de uma lista\n",
    "\n",
    "for tweet in tweets_irel_limpo:\n",
    "    lista_tweets_irel_completos.append(tweet.split())\n",
    "\n",
    "palavras_tweets_irel = [] #Lista com todas as palavras dos tweets irrelevantes\n",
    "\n",
    "for i in lista_tweets_irel_completos:\n",
    "    for w in i:\n",
    "        palavras_tweets_irel.append(w)\n",
    "\n",
    "serie_palavras_tweets_irel = pd.Series(palavras_tweets_irel) #Criando série para as palavras dos tweets irrelevantes\n",
    "\n",
    "tabela_frequencias_tweets_irel = serie_palavras_tweets_irel.value_counts() #Tabela de frequencias absolutas das palavras dos tweets irrelevantes"
   ]
  },
  {
   "cell_type": "markdown",
   "metadata": {},
   "source": [
    "#### Variáveis para o Smoothing"
   ]
  },
  {
   "cell_type": "code",
   "execution_count": 22,
   "metadata": {},
   "outputs": [],
   "source": [
    "alpha = 0.75\n",
    "v = 400000\n",
    "\n",
    "total_rel = len(tabela_frequencias_tweets_rel)+ alpha*v  #Total de palavras nos tweets relevantes(com smoothing)\n",
    "\n",
    "total_irel = len(tabela_frequencias_tweets_irel)+ alpha*v  #Total de palavras nos tweets irrelevantes(com smoothing)\n",
    "\n",
    "total_palavras = sum(tabela_frequencias_tweets_irel)+sum(tabela_frequencias_tweets_rel)"
   ]
  },
  {
   "cell_type": "markdown",
   "metadata": {},
   "source": [
    "#### Calculando Priors"
   ]
  },
  {
   "cell_type": "code",
   "execution_count": 23,
   "metadata": {},
   "outputs": [],
   "source": [
    "prob_rel = tabela_frequencias_tweets_rel.sum()/(total_palavras) #Probabilidade relevante\n",
    "prob_irel = tabela_frequencias_tweets_irel.sum()/(total_palavras) #Probabilidade irrelevante"
   ]
  },
  {
   "cell_type": "markdown",
   "metadata": {},
   "source": [
    "#### Função do Classificador Naive Bayes \n"
   ]
  },
  {
   "cell_type": "code",
   "execution_count": 24,
   "metadata": {},
   "outputs": [],
   "source": [
    "def Classificador(tweets, df): #Função do classificador\n",
    "    \n",
    "    prob_Tweet_dado_rel = 1.0 \n",
    "    prob_Tweet_dado_irel = 1.0 \n",
    "    cont = 0 \n",
    "   \n",
    "    for tweet in tweets: \n",
    "        \n",
    "        for palavra in tweet: \n",
    "            \n",
    "            if palavra in tabela_frequencias_tweets_rel: \n",
    "                prob_palavra_dado_rel = (tabela_frequencias_tweets_rel[palavra] + alpha) / total_rel\n",
    "                prob_Tweet_dado_rel += log10(prob_palavra_dado_rel)\n",
    "            else: \n",
    "                prob_palavra_dado_rel = (alpha) / total_rel\n",
    "                prob_Tweet_dado_rel += log10(prob_palavra_dado_rel)\n",
    "            \n",
    "            if palavra in tabela_frequencias_tweets_irel: \n",
    "                prob_palavra_dado_irel = (tabela_frequencias_tweets_irel[palavra] + alpha) / total_irel\n",
    "                prob_Tweet_dado_irel += log10(prob_palavra_dado_irel)\n",
    "            else: \n",
    "                prob_palavra_dado_irel = (alpha) / total_irel\n",
    "                prob_Tweet_dado_irel += log10(prob_palavra_dado_irel)  \n",
    "\n",
    "\n",
    "        \n",
    "        prob_rel_dado_tweet = prob_Tweet_dado_rel+log10(prob_rel)\n",
    "        prob_irel_dado_tweet = prob_Tweet_dado_irel+log10(prob_irel) \n",
    "        \n",
    "        if prob_rel_dado_tweet > prob_irel_dado_tweet:\n",
    "            df.iloc[cont,2] = 1\n",
    "        elif prob_rel_dado_tweet < prob_irel_dado_tweet:\n",
    "            df.iloc[cont,2] = 0\n",
    "        \n",
    "        cont +=1\n",
    "        prob_Tweet_dado_rel = 1.0\n",
    "        prob_Tweet_dado_irel = 1.0 "
   ]
  },
  {
   "cell_type": "markdown",
   "metadata": {},
   "source": [
    "#### Rodando o classificador na base de treinamento"
   ]
  },
  {
   "cell_type": "code",
   "execution_count": 25,
   "metadata": {},
   "outputs": [],
   "source": [
    "tweets_treinamento = [] #Lista com todos os tweets de treinamento\n",
    "\n",
    "treino_limpo = train['Treinamento'].apply(limpa)\n",
    "\n",
    "for tweet in (treino_limpo):\n",
    "    tweets_treinamento.append(tweet.split())\n",
    "    \n",
    "train['Classificador'] = 'NaN' #Nova coluna no dataframe\n",
    "\n",
    "Classificador(tweets_treinamento, train) #Rodando classificador no treinamento"
   ]
  },
  {
   "cell_type": "markdown",
   "metadata": {},
   "source": [
    "___\n",
    "### Verificando a performance do Classificador\n",
    "\n",
    "Agora você deve testar o seu classificador com a base de Testes."
   ]
  },
  {
   "cell_type": "markdown",
   "metadata": {},
   "source": [
    "#### Preparando a base de Testes e rodando o Classificador"
   ]
  },
  {
   "cell_type": "code",
   "execution_count": 26,
   "metadata": {},
   "outputs": [],
   "source": [
    "tweets_test_limpo = test['Teste'].apply(limpa) #Limpando tweets do teste \n",
    "\n",
    "tweets_teste = [] #Lista com os tweets de teste\n",
    "for tweet in tweets_test_limpo:\n",
    "    tweets_teste.append(tweet.split())\n",
    "\n",
    "\n",
    "test['Classificador'] = 'NaN' #Nova coluna no dataframe\n",
    "\n",
    "Classificador(tweets_teste, test) #Rodando classificador nos testes"
   ]
  },
  {
   "cell_type": "markdown",
   "metadata": {},
   "source": [
    "#### Facilitando a visualização no dataFrame"
   ]
  },
  {
   "cell_type": "code",
   "execution_count": 27,
   "metadata": {},
   "outputs": [],
   "source": [
    "train['Classificação'] = train['Classificação'].astype('category') \n",
    "train['Classificador'] = train['Classificador'].astype('category') \n",
    "\n",
    "test['Classificação'] = test['Classificação'].astype('category') \n",
    "test['Classificador'] = test['Classificador'].astype('category') \n",
    "\n",
    "\n",
    "train['Classificação'].cat.categories = ['Irrelevante', 'Relevante']\n",
    "train['Classificador'].cat.categories = ['Irrelevante', 'Relevante'] \n",
    "\n",
    "test['Classificação'].cat.categories = ['Irrelevante', 'Relevante'] \n",
    "test['Classificador'].cat.categories = ['Irrelevante', 'Relevante']"
   ]
  },
  {
   "cell_type": "markdown",
   "metadata": {},
   "source": [
    "#### Verificando a performace"
   ]
  },
  {
   "cell_type": "code",
   "execution_count": 28,
   "metadata": {},
   "outputs": [
    {
     "name": "stdout",
     "output_type": "stream",
     "text": [
      "Taxa de acerto da base de Treinamento: 95.13%\n",
      "Taxa de acerto da base de Testes: 71.76%\n"
     ]
    }
   ],
   "source": [
    "treinamento = 0 #Variável que define quantos tweets foram classificados pelo classificador corretamente\n",
    "for i in range(len(train)):\n",
    "    classificacao = str(train.iloc[i, 1])\n",
    "    classificador = str(train.iloc[i, 2])\n",
    "    if classificador == classificacao:\n",
    "        treinamento +=1       \n",
    "    else: \n",
    "         pass\n",
    "\n",
    "teste = 0 #Variável que define quantos tweets foram classificados pelo classificador corretamente\n",
    "for i in range(len(test)):\n",
    "    classificacao = str(test.iloc[i, 1])\n",
    "    classificador = str(test.iloc[i, 2])\n",
    "    if classificador == classificacao:\n",
    "        teste +=1       \n",
    "    else: \n",
    "         pass\n",
    "\n",
    "print('Taxa de acerto da base de Treinamento: {:.2f}%'.format((treinamento/len(train['Classificação']))*100))\n",
    "print('Taxa de acerto da base de Testes: {:.2f}%'.format((teste/len(test['Classificação']))*100))"
   ]
  },
  {
   "cell_type": "markdown",
   "metadata": {},
   "source": [
    "#### Tabela para verificar performace"
   ]
  },
  {
   "cell_type": "code",
   "execution_count": 29,
   "metadata": {},
   "outputs": [
    {
     "data": {
      "text/html": [
       "<div>\n",
       "<style scoped>\n",
       "    .dataframe tbody tr th:only-of-type {\n",
       "        vertical-align: middle;\n",
       "    }\n",
       "\n",
       "    .dataframe tbody tr th {\n",
       "        vertical-align: top;\n",
       "    }\n",
       "\n",
       "    .dataframe thead th {\n",
       "        text-align: right;\n",
       "    }\n",
       "</style>\n",
       "<table border=\"1\" class=\"dataframe\">\n",
       "  <thead>\n",
       "    <tr style=\"text-align: right;\">\n",
       "      <th>Classificador</th>\n",
       "      <th>Irrelevante</th>\n",
       "      <th>Relevante</th>\n",
       "    </tr>\n",
       "    <tr>\n",
       "      <th>Classificação</th>\n",
       "      <th></th>\n",
       "      <th></th>\n",
       "    </tr>\n",
       "  </thead>\n",
       "  <tbody>\n",
       "    <tr>\n",
       "      <th>Irrelevante</th>\n",
       "      <td>0.384259</td>\n",
       "      <td>0.092593</td>\n",
       "    </tr>\n",
       "    <tr>\n",
       "      <th>Relevante</th>\n",
       "      <td>0.189815</td>\n",
       "      <td>0.333333</td>\n",
       "    </tr>\n",
       "  </tbody>\n",
       "</table>\n",
       "</div>"
      ],
      "text/plain": [
       "Classificador  Irrelevante  Relevante\n",
       "Classificação                        \n",
       "Irrelevante       0.384259   0.092593\n",
       "Relevante         0.189815   0.333333"
      ]
     },
     "execution_count": 29,
     "metadata": {},
     "output_type": "execute_result"
    }
   ],
   "source": [
    "pd.crosstab(test['Classificação'], test['Classificador'], normalize = 'all')"
   ]
  },
  {
   "cell_type": "markdown",
   "metadata": {},
   "source": [
    "___\n",
    "### Concluindo"
   ]
  },
  {
   "cell_type": "code",
   "execution_count": null,
   "metadata": {},
   "outputs": [],
   "source": []
  },
  {
   "cell_type": "code",
   "execution_count": null,
   "metadata": {},
   "outputs": [],
   "source": []
  },
  {
   "cell_type": "markdown",
   "metadata": {},
   "source": [
    "___\n",
    "## Aperfeiçoamento:\n",
    "\n",
    "Os trabalhos vão evoluir em conceito dependendo da quantidade de itens avançados:\n",
    "\n",
    "* Limpar: \\n, :, \", ', (, ), etc SEM remover emojis\n",
    "* Corrigir separação de espaços entre palavras e emojis ou entre emojis e emojis\n",
    "* Propor outras limpezas e transformações que não afetem a qualidade da informação ou classificação\n",
    "* Criar categorias intermediárias de relevância baseadas na probabilidade: ex.: muito relevante, relevante, neutro, irrelevante, muito irrelevante (3 categorias: C, mais categorias conta para B)\n",
    "* Explicar por que não posso usar o próprio classificador para gerar mais amostras de treinamento\n",
    "* Propor diferentes cenários para Naïve Bayes fora do contexto do projeto\n",
    "* Sugerir e explicar melhorias reais com indicações concretas de como implementar (indicar como fazer e indicar material de pesquisa)\n",
    "* Montar um dashboard que realiza análise de sentimento e visualiza estes dados"
   ]
  },
  {
   "cell_type": "markdown",
   "metadata": {},
   "source": [
    "___\n",
    "## Referências"
   ]
  },
  {
   "cell_type": "markdown",
   "metadata": {},
   "source": [
    "[Naive Bayes and Text Classification](https://arxiv.org/pdf/1410.5329.pdf)  **Mais completo**\n",
    "\n",
    "[A practical explanation of a Naive Bayes Classifier](https://monkeylearn.com/blog/practical-explanation-naive-bayes-classifier/) **Mais simples**"
   ]
  }
 ],
 "metadata": {
  "kernelspec": {
   "display_name": "Python 3",
   "language": "python",
   "name": "python3"
  },
  "language_info": {
   "codemirror_mode": {
    "name": "ipython",
    "version": 3
   },
   "file_extension": ".py",
   "mimetype": "text/x-python",
   "name": "python",
   "nbconvert_exporter": "python",
   "pygments_lexer": "ipython3",
   "version": "3.7.4"
  }
 },
 "nbformat": 4,
 "nbformat_minor": 4
}
